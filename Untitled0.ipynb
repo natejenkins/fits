{
 "metadata": {
  "name": "Untitled0"
 }, 
 "nbformat": 2, 
 "worksheets": [
  {
   "cells": [
    {
     "cell_type": "code", 
     "collapsed": false, 
     "input": [
      "def L(A, e, w, g):", 
      "    return A*(1.0/(e-w+g) + 1.0/(-e-w+g))"
     ], 
     "language": "python", 
     "outputs": [], 
     "prompt_number": 2
    }, 
    {
     "cell_type": "code", 
     "collapsed": false, 
     "input": [
      "L(1,1,1,1)"
     ], 
     "language": "python", 
     "outputs": [
      {
       "output_type": "pyout", 
       "prompt_number": 3, 
       "text": [
        "0.0"
       ]
      }
     ], 
     "prompt_number": 3
    }, 
    {
     "cell_type": "code", 
     "collapsed": false, 
     "input": [
      "w = np.arange(-100.0,100.0)", 
      "e = -50", 
      "A = 100.0", 
      "g = 2*1.0j", 
      "res1 = L2(A,e,w,g)", 
      "res2 = L2(A,-e,w,g)", 
      "plt.plot(w, res1.imag+200)", 
      "plt.plot(w, res1.real+200)", 
      "plt.plot(w, res2.imag)", 
      "plt.plot(w, res2.real)", 
      "plt.show()"
     ], 
     "language": "python", 
     "outputs": [], 
     "prompt_number": 19
    }, 
    {
     "cell_type": "code", 
     "collapsed": true, 
     "input": [
      "import numpy as np", 
      "import matplotlib.pyplot as plt"
     ], 
     "language": "python", 
     "outputs": [], 
     "prompt_number": 6
    }, 
    {
     "cell_type": "code", 
     "collapsed": true, 
     "input": [
      "def L2(A, e, w, g):", 
      "    return A*(1.0/(w-e+g) + 1.0/(-w-e+g))"
     ], 
     "language": "python", 
     "outputs": [], 
     "prompt_number": 8
    }, 
    {
     "cell_type": "code", 
     "collapsed": true, 
     "input": [], 
     "language": "python", 
     "outputs": []
    }
   ]
  }
 ]
}