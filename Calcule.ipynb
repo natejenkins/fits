{
 "metadata": {
  "name": "Calcule"
 },
 "nbformat": 3,
 "nbformat_minor": 0,
 "worksheets": [
  {
   "cells": [
    {
     "cell_type": "code",
     "collapsed": false,
     "input": [
      "import numpy"
     ],
     "language": "python",
     "metadata": {},
     "outputs": [],
     "prompt_number": 16
    },
    {
     "cell_type": "code",
     "collapsed": false,
     "input": [
      "def L(A, e, w, g):\n",
      "    return A*(1.0/(e-w+g) + 1.0/(-e-w+g)) "
     ],
     "language": "python",
     "metadata": {},
     "outputs": [],
     "prompt_number": 9
    },
    {
     "cell_type": "code",
     "collapsed": false,
     "input": [
      "w = np.arange(-100.0,100.0)\n",
      "e = -50\n",
      "A = 100.0\n",
      "g = 1.0j\n",
      "\n",
      "\n",
      "res1 = L2(A,e,w,g)\n",
      "res2 = L2(A,-e,w,g)\n",
      "plt.plot(w, res1.imag)\n",
      "plt.plot(w, res1.real)\n",
      "plt.plot(w, res2.imag)\n",
      "plt.plot(w, res2.real)\n",
      "plt.show()\n"
     ],
     "language": "python",
     "metadata": {},
     "outputs": [],
     "prompt_number": 23
    },
    {
     "cell_type": "code",
     "collapsed": false,
     "input": [],
     "language": "python",
     "metadata": {},
     "outputs": []
    }
   ],
   "metadata": {}
  }
 ]
}